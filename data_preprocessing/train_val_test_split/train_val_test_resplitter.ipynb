{
 "cells": [
  {
   "cell_type": "code",
   "execution_count": 10,
   "metadata": {},
   "outputs": [
    {
     "name": "stdout",
     "output_type": "stream",
     "text": [
      "All patient ids:  20917\n",
      "Val patient ids:  1512\n",
      "Test patient ids:  1513\n",
      "Train patient ids:  12100\n",
      "Unsplit patient ids:  5792\n",
      "New Train patient ids:  4633\n",
      "New Val patient ids:  579\n",
      "New Test patient ids:  580\n"
     ]
    }
   ],
   "source": [
    "from sklearn.model_selection import train_test_split\n",
    "\n",
    "train_size = 0.8\n",
    "val_size = 0.1\n",
    "test_size = 0.1\n",
    "seed = 42\n",
    "\n",
    "val_patient_ids = \"../data/val_split/patient_ids_val.txt\"\n",
    "test_patient_ids = \"../data/test_split/patient_ids_test.txt\"\n",
    "train_patient_ids = \"../data/train_split/patient_ids_train.txt\"\n",
    "\n",
    "all_reports_file = \"../data/reports/curated_data_H&E_H&E_IHC_CON_preprocessed.json\"\n",
    "\n",
    "import json\n",
    "\n",
    "with open(all_reports_file) as f:\n",
    "    all_reports = json.load(f)\n",
    "    all_patient_ids = all_reports.keys()\n",
    "\n",
    "with open(val_patient_ids) as f:\n",
    "    val_patient_ids = f.read().split(\",\")\n",
    "\n",
    "with open(test_patient_ids) as f:\n",
    "    test_patient_ids = f.read().split(\",\")\n",
    "\n",
    "with open(train_patient_ids) as f:\n",
    "    train_patient_ids = f.read().split(\",\")\n",
    "\n",
    "print(\"All patient ids: \", len(all_patient_ids))\n",
    "print(\"Val patient ids: \", len(val_patient_ids))\n",
    "print(\"Test patient ids: \", len(test_patient_ids))\n",
    "print(\"Train patient ids: \", len(train_patient_ids))\n",
    "\n",
    "unsplit_patient_ids = all_patient_ids - (val_patient_ids + test_patient_ids + train_patient_ids)\n",
    "\n",
    "unsplit_patient_ids = list(unsplit_patient_ids)\n",
    "\n",
    "print(\"Unsplit patient ids: \", len(unsplit_patient_ids))\n",
    "\n",
    "new_train_ids, temp_ids = train_test_split(unsplit_patient_ids, train_size=train_size, random_state=seed)\n",
    "new_val_ids, new_test_ids = train_test_split(temp_ids, test_size=test_size/(val_size+test_size), random_state=seed)\n",
    "\n",
    "print(\"New Train patient ids: \", len(new_train_ids))\n",
    "print(\"New Val patient ids: \", len(new_val_ids))\n",
    "print(\"New Test patient ids: \", len(new_test_ids))\n",
    "\n",
    "with open(\"../data/train_split/patient_ids_train_expanded.txt\", \"w\") as f:\n",
    "    f.write(\",\".join(new_train_ids + train_patient_ids))\n",
    "\n",
    "with open(\"../data/val_split/patient_ids_val_expanded.txt\", \"w\") as f:\n",
    "    f.write(\",\".join(new_val_ids + val_patient_ids))\n",
    "\n",
    "with open(\"../data/test_split/patient_ids_test_expanded.txt\", \"w\") as f:\n",
    "    f.write(\",\".join(new_test_ids + test_patient_ids))\n",
    "\n",
    "\n"
   ]
  }
 ],
 "metadata": {
  "kernelspec": {
   "display_name": "venv",
   "language": "python",
   "name": "python3"
  },
  "language_info": {
   "codemirror_mode": {
    "name": "ipython",
    "version": 3
   },
   "file_extension": ".py",
   "mimetype": "text/x-python",
   "name": "python",
   "nbconvert_exporter": "python",
   "pygments_lexer": "ipython3",
   "version": "3.11.9"
  }
 },
 "nbformat": 4,
 "nbformat_minor": 2
}
